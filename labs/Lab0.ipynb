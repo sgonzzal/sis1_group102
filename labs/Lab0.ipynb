{
 "cells": [
  {
   "cell_type": "code",
   "execution_count": null,
   "metadata": {
    "id": "qjqxWfGLQq33"
   },
   "outputs": [],
   "source": [
    "from util import load_audio\n",
    "from IPython.display import Audio"
   ]
  },
  {
   "cell_type": "markdown",
   "metadata": {
    "id": "ukUllJREPzyK"
   },
   "source": [
    "## **Lab 0**\n",
    "\n",
    "The goal of the introductory lab is to gain familiarity with Python and build some basic skills that will be needed in the labs of the course. \n",
    " \n",
    "For an in-depth presentation that covers most of the Python language, consult the Python website, https://www.python.org/, starting from the tutorial  https://docs.python.org/3.8/tutorial/index.html or the Beginners Guide, https://wiki.python.org/moin/BeginnersGuide.\n",
    "\n",
    "**Basic Commands**\n",
    "\n",
    "In this lab you should first practice the concepts by following the initial examples and explanations, then experiment with them.\n",
    "\n",
    "For all these calculations it needs `numpy` to be imported."
   ]
  },
  {
   "cell_type": "code",
   "execution_count": null,
   "metadata": {
    "id": "PwvHo8daPsau"
   },
   "outputs": [],
   "source": [
    "import numpy as np"
   ]
  },
  {
   "cell_type": "markdown",
   "metadata": {
    "id": "ZMpb8qY9P5dx"
   },
   "source": [
    "From now on any command preceded by np will be using numpy.\n",
    "\n",
    "Python can be used a calculator, as shown below:"
   ]
  },
  {
   "cell_type": "code",
   "execution_count": null,
   "metadata": {
    "colab": {
     "base_uri": "https://localhost:8080/"
    },
    "executionInfo": {
     "elapsed": 302,
     "status": "ok",
     "timestamp": 1633333613386,
     "user": {
      "displayName": "JUAN SEBASTIÁN GÓMEZ CAÑÓN",
      "photoUrl": "https://lh3.googleusercontent.com/a/default-user=s64",
      "userId": "18286075121967442723"
     },
     "user_tz": -120
    },
    "id": "do5PPliqP8PX",
    "outputId": "7df05fbd-6aa5-48fd-850d-3caab635d2b2"
   },
   "outputs": [],
   "source": [
    "4+3"
   ]
  },
  {
   "cell_type": "code",
   "execution_count": null,
   "metadata": {
    "colab": {
     "base_uri": "https://localhost:8080/"
    },
    "executionInfo": {
     "elapsed": 10,
     "status": "ok",
     "timestamp": 1633333614810,
     "user": {
      "displayName": "JUAN SEBASTIÁN GÓMEZ CAÑÓN",
      "photoUrl": "https://lh3.googleusercontent.com/a/default-user=s64",
      "userId": "18286075121967442723"
     },
     "user_tz": -120
    },
    "id": "z81p8x16QDK0",
    "outputId": "8790a257-a191-4b0f-fa77-d34ba7dff4a4"
   },
   "outputs": [],
   "source": [
    "np.pi * np.pi - 10"
   ]
  },
  {
   "cell_type": "code",
   "execution_count": null,
   "metadata": {
    "colab": {
     "base_uri": "https://localhost:8080/"
    },
    "executionInfo": {
     "elapsed": 4,
     "status": "ok",
     "timestamp": 1633333617594,
     "user": {
      "displayName": "JUAN SEBASTIÁN GÓMEZ CAÑÓN",
      "photoUrl": "https://lh3.googleusercontent.com/a/default-user=s64",
      "userId": "18286075121967442723"
     },
     "user_tz": -120
    },
    "id": "ucjbEjxXQDxd",
    "outputId": "6e24ea24-749c-4b9c-d920-b2936c637985"
   },
   "outputs": [],
   "source": [
    "np.sin(np.pi / 4)"
   ]
  },
  {
   "cell_type": "markdown",
   "metadata": {
    "id": "UQHJSEe2QHpM"
   },
   "source": [
    "Variable names can store values and matrices. Try the following:"
   ]
  },
  {
   "cell_type": "code",
   "execution_count": null,
   "metadata": {
    "colab": {
     "base_uri": "https://localhost:8080/"
    },
    "executionInfo": {
     "elapsed": 499,
     "status": "ok",
     "timestamp": 1633333620469,
     "user": {
      "displayName": "JUAN SEBASTIÁN GÓMEZ CAÑÓN",
      "photoUrl": "https://lh3.googleusercontent.com/a/default-user=s64",
      "userId": "18286075121967442723"
     },
     "user_tz": -120
    },
    "id": "AP-2LzY1QJcg",
    "outputId": "036ec439-9e1e-4a89-ead8-fd127b38db65"
   },
   "outputs": [],
   "source": [
    "xx = np.sin(np.pi / 5)\n",
    "yy = np.sqrt(1 - xx * xx)\n",
    "print(yy)"
   ]
  },
  {
   "cell_type": "markdown",
   "metadata": {
    "id": "1eK3KFVZQLRX"
   },
   "source": [
    "Complex numbers are natural in Python. Notice that the names of some basic operations are unexpected, e.g., abs for magnitude. Try the following:"
   ]
  },
  {
   "cell_type": "code",
   "execution_count": null,
   "metadata": {
    "colab": {
     "base_uri": "https://localhost:8080/"
    },
    "executionInfo": {
     "elapsed": 325,
     "status": "ok",
     "timestamp": 1633333622933,
     "user": {
      "displayName": "JUAN SEBASTIÁN GÓMEZ CAÑÓN",
      "photoUrl": "https://lh3.googleusercontent.com/a/default-user=s64",
      "userId": "18286075121967442723"
     },
     "user_tz": -120
    },
    "id": "zKE2ivrBQNNd",
    "outputId": "8a6db66b-4dc7-4194-dfcf-44f54f91dd85"
   },
   "outputs": [],
   "source": [
    "zz = 3 + 4j\n",
    "zz.conjugate()"
   ]
  },
  {
   "cell_type": "code",
   "execution_count": null,
   "metadata": {
    "colab": {
     "base_uri": "https://localhost:8080/"
    },
    "executionInfo": {
     "elapsed": 305,
     "status": "ok",
     "timestamp": 1633333625306,
     "user": {
      "displayName": "JUAN SEBASTIÁN GÓMEZ CAÑÓN",
      "photoUrl": "https://lh3.googleusercontent.com/a/default-user=s64",
      "userId": "18286075121967442723"
     },
     "user_tz": -120
    },
    "id": "MBK5f-Z_QO1s",
    "outputId": "08620a4a-ca55-46ef-d1ba-91538b959426"
   },
   "outputs": [],
   "source": [
    "np.abs(zz)"
   ]
  },
  {
   "cell_type": "code",
   "execution_count": null,
   "metadata": {
    "colab": {
     "base_uri": "https://localhost:8080/"
    },
    "executionInfo": {
     "elapsed": 4,
     "status": "ok",
     "timestamp": 1633333627155,
     "user": {
      "displayName": "JUAN SEBASTIÁN GÓMEZ CAÑÓN",
      "photoUrl": "https://lh3.googleusercontent.com/a/default-user=s64",
      "userId": "18286075121967442723"
     },
     "user_tz": -120
    },
    "id": "K7DZ9ZruQR7s",
    "outputId": "3af08912-c8b9-4862-93d0-f45a6d070589"
   },
   "outputs": [],
   "source": [
    "np.angle(zz)"
   ]
  },
  {
   "cell_type": "code",
   "execution_count": null,
   "metadata": {
    "colab": {
     "base_uri": "https://localhost:8080/"
    },
    "executionInfo": {
     "elapsed": 8,
     "status": "ok",
     "timestamp": 1633333629201,
     "user": {
      "displayName": "JUAN SEBASTIÁN GÓMEZ CAÑÓN",
      "photoUrl": "https://lh3.googleusercontent.com/a/default-user=s64",
      "userId": "18286075121967442723"
     },
     "user_tz": -120
    },
    "id": "drMOGNRjQTOw",
    "outputId": "46e17122-5cfe-484a-c174-db73c59e0b76"
   },
   "outputs": [],
   "source": [
    "zz.real"
   ]
  },
  {
   "cell_type": "code",
   "execution_count": null,
   "metadata": {
    "colab": {
     "base_uri": "https://localhost:8080/"
    },
    "executionInfo": {
     "elapsed": 10,
     "status": "ok",
     "timestamp": 1633333631024,
     "user": {
      "displayName": "JUAN SEBASTIÁN GÓMEZ CAÑÓN",
      "photoUrl": "https://lh3.googleusercontent.com/a/default-user=s64",
      "userId": "18286075121967442723"
     },
     "user_tz": -120
    },
    "id": "SHWlGA4DQUVw",
    "outputId": "13fb3def-5408-4421-83ae-043c1132ef78"
   },
   "outputs": [],
   "source": [
    "zz.imag"
   ]
  },
  {
   "cell_type": "code",
   "execution_count": null,
   "metadata": {
    "colab": {
     "base_uri": "https://localhost:8080/"
    },
    "executionInfo": {
     "elapsed": 8,
     "status": "ok",
     "timestamp": 1633333632775,
     "user": {
      "displayName": "JUAN SEBASTIÁN GÓMEZ CAÑÓN",
      "photoUrl": "https://lh3.googleusercontent.com/a/default-user=s64",
      "userId": "18286075121967442723"
     },
     "user_tz": -120
    },
    "id": "KI4TllKmQVz8",
    "outputId": "d2ac0b0b-360b-4620-d51d-d00841d2acb4"
   },
   "outputs": [],
   "source": [
    "np.exp(1j* np.pi/4)"
   ]
  },
  {
   "cell_type": "markdown",
   "metadata": {
    "id": "G4mFLx-tQYRx"
   },
   "source": [
    "**Arrays**\n",
    "\n",
    "In the labs we will use numpy arrays, thus to create and process arrays we will use the functions from numpy. Numpy tutorial: https://docs.scipy.org/doc/numpy-dev/user/quickstart.html\n",
    "\n",
    "(a) Make sure that you understand the array notation. Try and understand the following commands"
   ]
  },
  {
   "cell_type": "code",
   "execution_count": null,
   "metadata": {
    "colab": {
     "base_uri": "https://localhost:8080/"
    },
    "executionInfo": {
     "elapsed": 8,
     "status": "ok",
     "timestamp": 1633333635282,
     "user": {
      "displayName": "JUAN SEBASTIÁN GÓMEZ CAÑÓN",
      "photoUrl": "https://lh3.googleusercontent.com/a/default-user=s64",
      "userId": "18286075121967442723"
     },
     "user_tz": -120
    },
    "id": "owxd6HtRQadt",
    "outputId": "4de21011-5a72-48b7-9e73-c8712759716b"
   },
   "outputs": [],
   "source": [
    "a = np.array([0,1,2,3])\n",
    "b = np.zeros(10)\n",
    "c = np.arange(2, 4, .2)\n",
    "d = 2 * np.pi * np.arange(0, 2, .2)\n",
    "print(d)"
   ]
  },
  {
   "cell_type": "markdown",
   "metadata": {
    "id": "UopEuTO0Qc2Y"
   },
   "source": [
    "*One*-dimensional arrays can be indexed, sliced and iterated over, like:"
   ]
  },
  {
   "cell_type": "code",
   "execution_count": null,
   "metadata": {
    "colab": {
     "base_uri": "https://localhost:8080/"
    },
    "executionInfo": {
     "elapsed": 306,
     "status": "ok",
     "timestamp": 1633333638198,
     "user": {
      "displayName": "JUAN SEBASTIÁN GÓMEZ CAÑÓN",
      "photoUrl": "https://lh3.googleusercontent.com/a/default-user=s64",
      "userId": "18286075121967442723"
     },
     "user_tz": -120
    },
    "id": "NVRHxxoZQeGj",
    "outputId": "2582d4a6-9c4c-446f-a52a-33e164c70246"
   },
   "outputs": [],
   "source": [
    "a = np.arange(10)**3\n",
    "a[2]"
   ]
  },
  {
   "cell_type": "code",
   "execution_count": null,
   "metadata": {
    "colab": {
     "base_uri": "https://localhost:8080/"
    },
    "executionInfo": {
     "elapsed": 539,
     "status": "ok",
     "timestamp": 1633333641706,
     "user": {
      "displayName": "JUAN SEBASTIÁN GÓMEZ CAÑÓN",
      "photoUrl": "https://lh3.googleusercontent.com/a/default-user=s64",
      "userId": "18286075121967442723"
     },
     "user_tz": -120
    },
    "id": "b0XWMw2zQfJo",
    "outputId": "88a3c236-873b-48d8-c1ca-856096523f9a"
   },
   "outputs": [],
   "source": [
    "a[2:5]"
   ]
  },
  {
   "cell_type": "code",
   "execution_count": null,
   "metadata": {
    "colab": {
     "base_uri": "https://localhost:8080/"
    },
    "executionInfo": {
     "elapsed": 8,
     "status": "ok",
     "timestamp": 1633333643804,
     "user": {
      "displayName": "JUAN SEBASTIÁN GÓMEZ CAÑÓN",
      "photoUrl": "https://lh3.googleusercontent.com/a/default-user=s64",
      "userId": "18286075121967442723"
     },
     "user_tz": -120
    },
    "id": "VVaM2D5tQgan",
    "outputId": "e14ece5c-7093-40a9-8ca3-ffbead0a0ad6"
   },
   "outputs": [],
   "source": [
    "a.size"
   ]
  },
  {
   "cell_type": "markdown",
   "metadata": {
    "id": "bV64sCJFQl5j"
   },
   "source": [
    "**Sinusoids**\n",
    "\n",
    "We can use numpy to create a sinewave"
   ]
  },
  {
   "cell_type": "code",
   "execution_count": null,
   "metadata": {
    "id": "qEt2weMtQnZp"
   },
   "outputs": [],
   "source": [
    "A = 0.8\n",
    "f0 = 300.0\n",
    "phi = np.pi/2\n",
    "fs = 44100\n",
    "t = np.arange(0, .1, 1.0/fs)\n",
    "x = A * np.cos(2*np.pi*f0*t + phi)"
   ]
  },
  {
   "cell_type": "markdown",
   "metadata": {
    "id": "6pQHxsQrQo1A"
   },
   "source": [
    "We provide some auxilary functions to the signals and read/write audio files:"
   ]
  },
  {
   "cell_type": "code",
   "execution_count": null,
   "metadata": {
    "id": "TLneHef_Q7ep"
   },
   "outputs": [],
   "source": [
    "from util import load_audio, save_audio, plot_signals"
   ]
  },
  {
   "cell_type": "markdown",
   "metadata": {
    "id": "NFjStotCQ_Bz"
   },
   "source": [
    "For instance, we can use plot_signals to plot the sinwave created before:"
   ]
  },
  {
   "cell_type": "code",
   "execution_count": null,
   "metadata": {
    "colab": {
     "base_uri": "https://localhost:8080/",
     "height": 541
    },
    "executionInfo": {
     "elapsed": 1535,
     "status": "ok",
     "timestamp": 1633333653691,
     "user": {
      "displayName": "JUAN SEBASTIÁN GÓMEZ CAÑÓN",
      "photoUrl": "https://lh3.googleusercontent.com/a/default-user=s64",
      "userId": "18286075121967442723"
     },
     "user_tz": -120
    },
    "id": "ZoqailaeRAoO",
    "outputId": "c10c326a-2821-4ecf-e1ab-1676003a7c5d"
   },
   "outputs": [],
   "source": [
    "plot_signals(x, fs)"
   ]
  },
  {
   "cell_type": "markdown",
   "metadata": {
    "id": "qHZaZ8-QRIde"
   },
   "source": [
    "This function also has some optional arguments to select the start and end time (in seconds)."
   ]
  },
  {
   "cell_type": "code",
   "execution_count": null,
   "metadata": {
    "colab": {
     "base_uri": "https://localhost:8080/",
     "height": 541
    },
    "executionInfo": {
     "elapsed": 1050,
     "status": "ok",
     "timestamp": 1633333658734,
     "user": {
      "displayName": "JUAN SEBASTIÁN GÓMEZ CAÑÓN",
      "photoUrl": "https://lh3.googleusercontent.com/a/default-user=s64",
      "userId": "18286075121967442723"
     },
     "user_tz": -120
    },
    "id": "vykUkUkQRB5O",
    "outputId": "bc3b564f-943a-4bc7-e774-5407257d34ad"
   },
   "outputs": [],
   "source": [
    "plot_signals(x, fs, t_start=0.02, t_end=0.04)"
   ]
  },
  {
   "cell_type": "markdown",
   "metadata": {
    "id": "mZNP0Xw9RFxX"
   },
   "source": [
    "It is also possible to plot several signals in the same figure:\n"
   ]
  },
  {
   "cell_type": "code",
   "execution_count": null,
   "metadata": {
    "colab": {
     "base_uri": "https://localhost:8080/",
     "height": 541
    },
    "executionInfo": {
     "elapsed": 911,
     "status": "ok",
     "timestamp": 1633333662749,
     "user": {
      "displayName": "JUAN SEBASTIÁN GÓMEZ CAÑÓN",
      "photoUrl": "https://lh3.googleusercontent.com/a/default-user=s64",
      "userId": "18286075121967442723"
     },
     "user_tz": -120
    },
    "id": "Zl1CwmlnRM94",
    "outputId": "9c9e4fb7-ae02-442b-df5e-8359861420e6"
   },
   "outputs": [],
   "source": [
    "x1 = A * np.cos(2*np.pi*f0*t + phi)\n",
    "x2 = 0.1 * np.cos(2*np.pi*2*f0*t + phi)\n",
    "\n",
    "plot_signals([x1, x2], fs, t_start=0.02, t_end=0.04, name=['first signal', 'second signal'])"
   ]
  }
 ],
 "metadata": {
  "colab": {
   "name": "Lab0.ipynb",
   "provenance": []
  },
  "kernelspec": {
   "display_name": ".venv (3.12.1)",
   "language": "python",
   "name": "python3"
  },
  "language_info": {
   "codemirror_mode": {
    "name": "ipython",
    "version": 3
   },
   "file_extension": ".py",
   "mimetype": "text/x-python",
   "name": "python",
   "nbconvert_exporter": "python",
   "pygments_lexer": "ipython3",
   "version": "3.12.1"
  }
 },
 "nbformat": 4,
 "nbformat_minor": 0
}
