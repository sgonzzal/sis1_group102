{
 "cells": [
  {
   "cell_type": "markdown",
   "metadata": {
    "id": "W3krAfc9IE3y"
   },
   "source": [
    "**Lab 4: FIR filters and envelopes**\n",
    "\n",
    "The goal of this lab is to learn how to implement FIR filters in Python, and how we can use them to improve our synthesis."
   ]
  },
  {
   "cell_type": "code",
   "execution_count": null,
   "metadata": {
    "colab": {
     "base_uri": "https://localhost:8080/"
    },
    "executionInfo": {
     "elapsed": 2432,
     "status": "ok",
     "timestamp": 1702555145278,
     "user": {
      "displayName": "EVGENI SLAVYANOV STAVREV",
      "userId": "18296688689317619421"
     },
     "user_tz": -60
    },
    "id": "PfpgPgp3ID8i",
    "outputId": "caf08925-59fb-49c5-c8b9-c3c3e4ad6299"
   },
   "outputs": [],
   "source": [
    "import os\n",
    "import numpy as np\n",
    "import librosa\n",
    "import IPython.display as ipd\n",
    "from scipy import signal\n",
    "import matplotlib.pyplot as plt\n",
    "\n",
    "from util import load_audio, plot_signals, plot_spectrogram, plot_mean_spectrogram"
   ]
  },
  {
   "cell_type": "markdown",
   "metadata": {
    "id": "zRLKUNZ3KwhX"
   },
   "source": [
    "**1. Overview of Filtering**\n",
    "\n",
    "For this lab, we will define an FIR filter as a discrete-time system that converts an input signal $x[n]$ into an output signal $y[n]$ by means of the weighted summation:\n",
    "\n",
    "$$\n",
    "y[n] = \\sum_{k=0}^M b_kx[n-k]\n",
    "$$\n",
    "\n",
    "The function *np.convolve()* is a generic function with which to implement FIR filters. The following code implements a three-point averaging system:"
   ]
  },
  {
   "cell_type": "code",
   "execution_count": null,
   "metadata": {
    "colab": {
     "base_uri": "https://localhost:8080/"
    },
    "executionInfo": {
     "elapsed": 1751,
     "status": "ok",
     "timestamp": 1702555147016,
     "user": {
      "displayName": "EVGENI SLAVYANOV STAVREV",
      "userId": "18296688689317619421"
     },
     "user_tz": -60
    },
    "id": "fwDi6s6oKqz5",
    "outputId": "0fedd45d-f8fc-4e88-c38f-a16ccf4c8040"
   },
   "outputs": [],
   "source": [
    "fs = 1\n",
    "x = [np.floor(x/10) for x in range(50)]\n",
    "b = np.array([1.0/3, 1.0/3, 1.0/3])\n",
    "y = np.convolve(b, x)\n",
    "\n",
    "plot_signals([x, y], fs, name=['input x[n]', 'output y[n]'], mode='lines+markers')"
   ]
  },
  {
   "cell_type": "markdown",
   "metadata": {
    "id": "k_NlJ34JT2Nr"
   },
   "source": []
  },
  {
   "cell_type": "markdown",
   "metadata": {
    "id": "hoAVk6h8ObKe"
   },
   "source": [
    "1.1 Explain the filtering action of the 5-point averager by comparing the plot of the input $x[n]$ and the output $y[n]$. This filter might be called a “smoothing” filter. Note how the transitions from one level to another have been “smoothed.”"
   ]
  },
  {
   "cell_type": "markdown",
   "metadata": {
    "id": "LmzL2i0dO7HH"
   },
   "source": [
    "The 5-point averager, is used to smooth or average a signal. It operates by averaging the current sample and four previous samples from the input signal to create a smoother output. This filtering action reduces the impact of high-frequency noise and sharp transitions in the input. We can see this from the example above by noteching how the transitions last longer and have less of an angle of attack. It's an overall smoother graphic than the blue one."
   ]
  },
  {
   "cell_type": "markdown",
   "metadata": {
    "id": "BDdZTYinPF9f"
   },
   "source": [
    "*1.2* Define a function `averaging_filter(x, N)` which implements the N-points averaging filter using the `np.convolve` function."
   ]
  },
  {
   "cell_type": "code",
   "execution_count": null,
   "metadata": {
    "colab": {
     "base_uri": "https://localhost:8080/"
    },
    "executionInfo": {
     "elapsed": 60,
     "status": "ok",
     "timestamp": 1702555147016,
     "user": {
      "displayName": "EVGENI SLAVYANOV STAVREV",
      "userId": "18296688689317619421"
     },
     "user_tz": -60
    },
    "id": "UExpGoIiO5rd",
    "outputId": "e56c22dd-95b1-467b-c45a-f7e44aef64e2"
   },
   "outputs": [],
   "source": [
    "import numpy as np\n",
    "\n",
    "def averaging_filter(x, N):\n",
    "    \"\"\"\n",
    "    Applies a N-point averaging filter to the input signal x\n",
    "\n",
    "    Parameters\n",
    "    ----------\n",
    "    x : np.array\n",
    "        The input signal in the form of a numpy array\n",
    "    N : int\n",
    "        The number of points used in N-point averaging filter\n",
    "\n",
    "    Returns\n",
    "    -------\n",
    "    y : np.array\n",
    "        The output of the filter\n",
    "    \"\"\"\n",
    "\n",
    "    # Write your code here\n",
    "\n",
    "\n"
   ]
  },
  {
   "cell_type": "markdown",
   "metadata": {
    "id": "TtnxJSiCP2-1"
   },
   "source": [
    "1.3 Run the example above using the `averaging_filter` instead. Change the number N to different values and explain what happen."
   ]
  },
  {
   "cell_type": "code",
   "execution_count": null,
   "metadata": {
    "colab": {
     "base_uri": "https://localhost:8080/"
    },
    "executionInfo": {
     "elapsed": 56,
     "status": "ok",
     "timestamp": 1702555147017,
     "user": {
      "displayName": "EVGENI SLAVYANOV STAVREV",
      "userId": "18296688689317619421"
     },
     "user_tz": -60
    },
    "id": "5jEUy2v5P16O",
    "outputId": "84df2006-da41-4c3a-cbfc-c5d21d8f8a10"
   },
   "outputs": [],
   "source": [
    "# Write your code here\n"
   ]
  },
  {
   "cell_type": "code",
   "execution_count": null,
   "metadata": {
    "colab": {
     "base_uri": "https://localhost:8080/"
    },
    "executionInfo": {
     "elapsed": 55,
     "status": "ok",
     "timestamp": 1702555147017,
     "user": {
      "displayName": "EVGENI SLAVYANOV STAVREV",
      "userId": "18296688689317619421"
     },
     "user_tz": -60
    },
    "id": "cVx5Cqw6YU8y",
    "outputId": "462028eb-e250-4e21-8f91-836865941f82"
   },
   "outputs": [],
   "source": []
  },
  {
   "cell_type": "markdown",
   "metadata": {
    "id": "_PPtO_0oRbWX"
   },
   "source": [
    "1.4 How would you classify this filter, as a low-pass o high-pass filter?"
   ]
  },
  {
   "cell_type": "markdown",
   "metadata": {
    "id": "zg3kfrYkRpC_"
   },
   "source": [
    "[Double click to write your answer]\n",
    "it smooths the signal by averaging a range of samples, which effectively reduces the impact of high-frequency noise or rapid changes in the signal. This behavior makes it a low-pass filter, as it passes the lower-frequency components and attenuates the higher-frequency components, resulting in a smoother signal.\n",
    "\n",
    "\n",
    "\n",
    "\n",
    "\n"
   ]
  },
  {
   "cell_type": "markdown",
   "metadata": {
    "id": "6UIxf7Ds2skW"
   },
   "source": [
    "---"
   ]
  },
  {
   "cell_type": "markdown",
   "metadata": {
    "id": "z2KxAh4jMh4-"
   },
   "source": [
    "**2. Envelope detector**\n",
    "\n",
    "Now we'll implement an envelope detector by concatenating two systems: a full-wave rectifier (absolute value) and the N-point averaging filter.\n",
    "\n",
    "![Sis_diagram.png](data:image/png;base64,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)\n",
    "\n",
    "2.1 Define a function `envelope(x, N)` which applies an N-point averaging filter to the full-wave rectified signal and returns the output $y[n]$.\n",
    "\n",
    "**Note 1**: to calculate the full-wave rectified signal check the `np.abs()` function.\n",
    "\n",
    "**Note 2**: The output should have the same length as the input signal. Use 'same' mode (see [np.convolve](https://numpy.org/doc/stable/reference/generated/numpy.convolve.html) documentation)."
   ]
  },
  {
   "cell_type": "code",
   "execution_count": null,
   "metadata": {
    "executionInfo": {
     "elapsed": 29,
     "status": "ok",
     "timestamp": 1702555149051,
     "user": {
      "displayName": "EVGENI SLAVYANOV STAVREV",
      "userId": "18296688689317619421"
     },
     "user_tz": -60
    },
    "id": "ZAhSxAOhMezv"
   },
   "outputs": [],
   "source": [
    "def envelope(x, N):\n",
    "   \"\"\"Extracts the envelope of the input signal x\n",
    "\n",
    "   Parameters\n",
    "   ----------\n",
    "    x : np.array\n",
    "        The input signal in the form of a numpy array\n",
    "    N : int\n",
    "        The number of points used in N-point averaging filter\n",
    "\n",
    "    Returns\n",
    "    -------\n",
    "    y : np.array\n",
    "        The output of the system, i.e the envelope of the signal x.\n",
    "\n",
    "   \"\"\"\n",
    "   # write your code here\n",
    "import numpy as np\n",
    "\n",
    "def envelope(x, N):\n",
    "    \"\"\"\n",
    "    Extracts the envelope of the input signal x by concatenating a full-wave rectifier and an N-point averaging filter.\n",
    "\n",
    "    Parameters\n",
    "    ----------\n",
    "    x : np.array\n",
    "        The input signal in the form of a numpy array\n",
    "    N : int\n",
    "        The number of points used in N-point averaging filter\n",
    "\n",
    "    Returns\n",
    "    -------\n",
    "    y : np.array\n",
    "        The output of the system, i.e., the envelope of the signal x.\n",
    "    \"\"\"\n",
    "    # write your code here\n"
   ]
  },
  {
   "cell_type": "markdown",
   "metadata": {
    "id": "tX87jsW8IEPU"
   },
   "source": [
    "2.2 Load your reference signal and calculate its envelope using the function you designed. Plot the reference signal and envelope in the same figure."
   ]
  },
  {
   "cell_type": "code",
   "execution_count": null,
   "metadata": {
    "colab": {
     "base_uri": "https://localhost:8080/"
    },
    "executionInfo": {
     "elapsed": 1434,
     "status": "ok",
     "timestamp": 1702555152846,
     "user": {
      "displayName": "EVGENI SLAVYANOV STAVREV",
      "userId": "18296688689317619421"
     },
     "user_tz": -60
    },
    "id": "uIwNmjTlia8P",
    "outputId": "da34d1d5-549e-426a-8bb7-2035d9602221"
   },
   "outputs": [],
   "source": []
  },
  {
   "cell_type": "markdown",
   "metadata": {
    "id": "VB27JiWiTEVz"
   },
   "source": [
    "2.3 Change the number N to get a good result. What happens when you change the number N?"
   ]
  },
  {
   "cell_type": "markdown",
   "metadata": {
    "id": "N9CioOEATdxq"
   },
   "source": [
    "[Double click to write your answer]"
   ]
  },
  {
   "cell_type": "markdown",
   "metadata": {
    "id": "64B2K1e2xFjp"
   },
   "source": [
    "2.4 Explain with your own words why this system achieves extracting the envelope. It might be useful to plot together the signals $x[n]$, $w[n]$ and $y[n]$."
   ]
  },
  {
   "cell_type": "code",
   "execution_count": null,
   "metadata": {
    "id": "BVPUrYL8xuWO"
   },
   "outputs": [],
   "source": [
    "# Write your code here"
   ]
  },
  {
   "cell_type": "markdown",
   "metadata": {
    "id": "yVP7AWjMTfMn"
   },
   "source": [
    "2.5 Now let's apply this envelope to the synthesized signal. Copy the code from Lab3 Ex. 2.1 and generate the synthesized signal. Then multiply the synthesized signal by the envelope. Note that both signal and envelope should have the same length. You can define a time vector of the same length of the envelope to create the signal:"
   ]
  },
  {
   "cell_type": "code",
   "execution_count": null,
   "metadata": {
    "colab": {
     "base_uri": "https://localhost:8080/"
    },
    "executionInfo": {
     "elapsed": 445,
     "status": "error",
     "timestamp": 1702555155199,
     "user": {
      "displayName": "EVGENI SLAVYANOV STAVREV",
      "userId": "18296688689317619421"
     },
     "user_tz": -60
    },
    "id": "owU1sLbgVVOP",
    "outputId": "d8b854c4-2efd-436c-adf4-b3781cb51261"
   },
   "outputs": [],
   "source": [
    "# Write your code here"
   ]
  },
  {
   "cell_type": "markdown",
   "metadata": {
    "id": "J22hnhkIVbmG"
   },
   "source": [
    "2.6. Compare the spectrograms of the reference signal and the synthesized signal. What are the main differences?"
   ]
  },
  {
   "cell_type": "code",
   "execution_count": null,
   "metadata": {
    "id": "6gXwexJlDJ0m"
   },
   "outputs": [],
   "source": [
    "# Write your code here"
   ]
  },
  {
   "cell_type": "markdown",
   "metadata": {
    "id": "_YwY775g3TjQ"
   },
   "source": [
    "2.7 Listen to the synthesized signal and compare it to the reference.\n",
    "\n"
   ]
  },
  {
   "cell_type": "code",
   "execution_count": null,
   "metadata": {
    "colab": {
     "base_uri": "https://localhost:8080/",
     "height": 52
    },
    "executionInfo": {
     "elapsed": 10,
     "status": "ok",
     "timestamp": 1699893456414,
     "user": {
      "displayName": "EVGENI SLAVYANOV STAVREV",
      "userId": "18296688689317619421"
     },
     "user_tz": -60
    },
    "id": "I-W_3U6P3bfK",
    "outputId": "51f7c94d-9e08-4ea3-8f0f-ccd43663d764"
   },
   "outputs": [],
   "source": [
    "# Write your code here"
   ]
  },
  {
   "cell_type": "code",
   "execution_count": null,
   "metadata": {
    "id": "6ohR0o5DjwcH"
   },
   "outputs": [],
   "source": [
    "# Write your code here"
   ]
  }
 ],
 "metadata": {
  "colab": {
   "provenance": []
  },
  "kernelspec": {
   "display_name": "mule",
   "language": "python",
   "name": "python3"
  },
  "language_info": {
   "codemirror_mode": {
    "name": "ipython",
    "version": 3
   },
   "file_extension": ".py",
   "mimetype": "text/x-python",
   "name": "python",
   "nbconvert_exporter": "python",
   "pygments_lexer": "ipython3",
   "version": "3.10.18"
  }
 },
 "nbformat": 4,
 "nbformat_minor": 0
}
