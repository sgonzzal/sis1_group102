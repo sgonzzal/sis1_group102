{
 "cells": [
  {
   "cell_type": "markdown",
   "metadata": {
    "id": "Y81MzYvju8df"
   },
   "source": [
    "**Lab 5: FIR Filtering 2**\n",
    "\n",
    "The goal of this lab is to study the response of FIR filters to inputs such as complex exponentials and sinusoids. In the experiments of this lab, you will use `np.convolve()` to implement filters and `freqz()` to obtain the filter’s frequency response. As a result, you should learn how to characterize a filter by knowing how it reacts to different frequency components in the input.\n",
    "This lab also introduces two practical filters: bandpass filters and nulling filters.\n",
    "Bandpass filters can be used to detect and extract information from complex signals,\n",
    "e.g., tones in a touch-tone telephone dialer. Nulling filters can be used to remove\n",
    "sinusoidal interference, e.g., jamming signals in a radar."
   ]
  },
  {
   "cell_type": "code",
   "execution_count": null,
   "metadata": {
    "id": "qsi3JsiCvkN0"
   },
   "outputs": [],
   "source": [
    "import os\n",
    "import numpy as np\n",
    "import librosa\n",
    "import IPython.display as ipd\n",
    "from scipy import signal\n",
    "import matplotlib.pyplot as plt\n",
    "\n",
    "from util import load_audio, plot_signals, plot_spectrogram, plot_mean_spectrogram"
   ]
  },
  {
   "cell_type": "markdown",
   "metadata": {
    "id": "NHoFXnT50NRR"
   },
   "source": [
    "1.1. First, let's replicate what we did until now. Copy the functions synthesize and envelope and obtain the synthesis from the last lab."
   ]
  },
  {
   "cell_type": "code",
   "execution_count": null,
   "metadata": {
    "id": "LK92ll2h0Mwi"
   },
   "outputs": [],
   "source": [
    "# Write your code here"
   ]
  },
  {
   "cell_type": "markdown",
   "metadata": {
    "id": "yE4JdL6cpSzb"
   },
   "source": [
    "1.2 Plot both reference and synthesised signal."
   ]
  },
  {
   "cell_type": "code",
   "execution_count": null,
   "metadata": {
    "id": "OLk6XQ0SxH77"
   },
   "outputs": [],
   "source": [
    "# Write your code here"
   ]
  },
  {
   "cell_type": "markdown",
   "metadata": {
    "id": "gckl0VP18Ser"
   },
   "source": [
    "---"
   ]
  },
  {
   "cell_type": "markdown",
   "metadata": {
    "id": "eibDysRx1XzW"
   },
   "source": [
    "**2. Averaging filter**\n",
    "\n",
    "Now let's analyze the frequency response of the average filter used in the envelope function. The Scipy Python module has a function called *freqz()* for computing the frequency\n",
    "response of a discrete-time LTI system. The following Python statements show how to\n",
    "use freqz to compute and plot both the magnitude (absolute value) and the phase of\n",
    "the frequency response of a four-point averaging system as a function of ω in the range − π ≤ ω ≤ π :"
   ]
  },
  {
   "cell_type": "code",
   "execution_count": null,
   "metadata": {
    "colab": {
     "base_uri": "https://localhost:8080/",
     "height": 542
    },
    "executionInfo": {
     "elapsed": 370,
     "status": "ok",
     "timestamp": 1636717384848,
     "user": {
      "displayName": "PABLO ZINEMANAS",
      "photoUrl": "https://lh3.googleusercontent.com/a/default-user=s64",
      "userId": "15426152828688545424"
     },
     "user_tz": -60
    },
    "id": "1sAi80gs1_Ea",
    "outputId": "673a553f-edfc-43e0-d72d-45b576f61a4a"
   },
   "outputs": [],
   "source": [
    "# Write your code here"
   ]
  },
  {
   "cell_type": "markdown",
   "metadata": {
    "id": "5zzt0JIS8Cys"
   },
   "source": [
    "For FIR filters, the second argument of `freqz(-, 1,- )` must always be equal to 1. The frequency vector ww should cover an interval of length 2π for ω , and its spacing must be fine enough to give a smooth curve for H(ejω) . Note: we will always use capital H for the frequency response."
   ]
  },
  {
   "cell_type": "markdown",
   "metadata": {
    "id": "C8yPeq8o8uS-"
   },
   "source": [
    "2.1 Use the `freqz` and `plot_frequency_response` functions to plot the frequency response of the averaging filter of your envelope function.\n",
    "\n"
   ]
  },
  {
   "cell_type": "code",
   "execution_count": null,
   "metadata": {
    "id": "2jukRMoK1XEe"
   },
   "outputs": [],
   "source": [
    "# Write your code here\n"
   ]
  },
  {
   "cell_type": "markdown",
   "metadata": {
    "id": "Cs2dmj3c9XC2"
   },
   "source": [
    "2.2 Looking at the frequency responses, what are the main differences between your filter and the four-point averaging filter. What happens when the value N is increased?"
   ]
  },
  {
   "cell_type": "markdown",
   "metadata": {
    "id": "sbJs2rEhpnEs"
   },
   "source": [
    "[Double click to write your answer]"
   ]
  },
  {
   "cell_type": "markdown",
   "metadata": {
    "id": "PZi9d3Ao9DES"
   },
   "source": [
    "---"
   ]
  },
  {
   "cell_type": "markdown",
   "metadata": {
    "id": "ceXZiF6O9ESB"
   },
   "source": [
    "**3. Nulling Filters for Rejection**\n",
    "\n",
    "Nulling filters are filters that completely eliminate some frequency components. If the frequency is $\\omega=0$ or $\\omega=\\pi$ then a two-point FIR filter will do the nulling. The simplest possible general nulling filter can have as few as three coefficients. If $\\omega_n$ is the desired nulling frequency, then the following length-3 FIR filter\n",
    "\n",
    "$$\n",
    "y[n] = x[n] - 2\\cos(\\omega_n)x[n-1] + x[n-2] \n",
    "$$\n",
    "\n",
    "will have a zero in its frequency response at $\\omega=\\omega_n$. For example, a filter designed to completely eliminate signals of the form $e^{j0.5\\pi}$ would have the following coefficients because we would pick the desired nulling frequency to be $\\omega_n = 0.5\\pi$\n",
    "\n",
    "$$\n",
    "b_0 = 1, \\quad b1=-2cos(\\omega_n)=0, \\quad b_2=1\n",
    "$$"
   ]
  },
  {
   "cell_type": "markdown",
   "metadata": {
    "id": "PZ8jDs_qCyFg"
   },
   "source": [
    "3.1 Use the following function to add an interference in your reference signal. Name the corrupted signal as `x_interf`."
   ]
  },
  {
   "cell_type": "code",
   "execution_count": null,
   "metadata": {
    "id": "-qKuV1Ms9Bng"
   },
   "outputs": [],
   "source": [
    "def add_interference(x, fs):\n",
    "  # Write your code here"
   ]
  },
  {
   "cell_type": "code",
   "execution_count": null,
   "metadata": {
    "id": "au3cYPO7fesS"
   },
   "outputs": [],
   "source": [
    "# Write your code here"
   ]
  },
  {
   "cell_type": "markdown",
   "metadata": {
    "id": "gfjDb9eIDO1K"
   },
   "source": [
    "3.2 Plot both the reference signal and the corrupted signal and listen to the latter one. "
   ]
  },
  {
   "cell_type": "code",
   "execution_count": null,
   "metadata": {
    "id": "you9lHSpDN7E"
   },
   "outputs": [],
   "source": [
    "# Write your code here"
   ]
  },
  {
   "cell_type": "markdown",
   "metadata": {
    "id": "8ZXohFBAEOqo"
   },
   "source": [
    "3.3 Compare the spectrograms of the reference signal and the interference signal. "
   ]
  },
  {
   "cell_type": "code",
   "execution_count": null,
   "metadata": {
    "id": "O7dK4f59pfxR"
   },
   "outputs": [],
   "source": [
    "# Write your code here"
   ]
  },
  {
   "cell_type": "markdown",
   "metadata": {
    "id": "6iOwri_7E6HE"
   },
   "source": [
    "3.4. Create a function `remove_interference(x, fs)` that applies a nulling filter devised to remove the interference at 1000 Hz. \n",
    "\n",
    "Note: remember that a frequency can be converted to the normalized radian frequncy by: $\\omega_n = 2\\pi f_n/f_s$"
   ]
  },
  {
   "cell_type": "code",
   "execution_count": null,
   "metadata": {
    "id": "KmflfSQrfbT6"
   },
   "outputs": [],
   "source": [
    "def remove_interference(x, fs):\n",
    "  \"\"\"Applies nulling filter to remove an interference at 1000 Hz\n",
    "\n",
    "  Parameters\n",
    "  ----------\n",
    "  x : np.array\n",
    "      The input signal in the form of a numpy array\n",
    "  fs : int or float\n",
    "      Frequency rate in Hz\n",
    "\n",
    "  Returns\n",
    "  -------\n",
    "  y : np.array\n",
    "      The output of the filter\n",
    "\n",
    "  \"\"\"\n",
    "  # Write your code here"
   ]
  },
  {
   "cell_type": "markdown",
   "metadata": {
    "id": "g1qgxbPLHqIj"
   },
   "source": [
    "3.5 Use the `remove_interference` funcion to clean the corrupted signal,  `x_interf`. Call the output as `x_clean`. Compare the spectrograms of both signals. Explain the result."
   ]
  },
  {
   "cell_type": "code",
   "execution_count": null,
   "metadata": {
    "id": "PP9JZEpWGWKq"
   },
   "outputs": [],
   "source": [
    "# Write your code here"
   ]
  }
 ],
 "metadata": {
  "colab": {
   "provenance": []
  },
  "kernelspec": {
   "display_name": "Python 3",
   "name": "python3"
  },
  "language_info": {
   "name": "python"
  }
 },
 "nbformat": 4,
 "nbformat_minor": 0
}
